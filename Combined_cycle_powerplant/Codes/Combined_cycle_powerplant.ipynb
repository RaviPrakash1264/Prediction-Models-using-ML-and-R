{
  "nbformat": 4,
  "nbformat_minor": 0,
  "metadata": {
    "colab": {
      "name": "Combined_cycle_powerplant.ipynb",
      "provenance": [],
      "collapsed_sections": [],
      "toc_visible": true
    },
    "kernelspec": {
      "name": "python3",
      "display_name": "Python 3"
    }
  },
  "cells": [
    {
      "cell_type": "markdown",
      "metadata": {
        "id": "8sNDnxE2-pwE"
      },
      "source": [
        "### Importing the libraries"
      ]
    },
    {
      "cell_type": "code",
      "metadata": {
        "id": "lxChR1Rk-umf"
      },
      "source": [
        "import numpy as np\n",
        "import pandas as pd\n",
        "import tensorflow as tf"
      ],
      "execution_count": null,
      "outputs": []
    },
    {
      "cell_type": "code",
      "metadata": {
        "id": "uBTqR3nacj0e",
        "outputId": "ba7b83c0-6a6d-4ab7-f72e-446461e69b79",
        "colab": {
          "base_uri": "https://localhost:8080/",
          "height": 35
        }
      },
      "source": [
        "tf.__version__"
      ],
      "execution_count": null,
      "outputs": [
        {
          "output_type": "execute_result",
          "data": {
            "application/vnd.google.colaboratory.intrinsic+json": {
              "type": "string"
            },
            "text/plain": [
              "'2.3.0'"
            ]
          },
          "metadata": {
            "tags": []
          },
          "execution_count": 2
        }
      ]
    },
    {
      "cell_type": "markdown",
      "metadata": {
        "id": "AG3FQEch-yuA"
      },
      "source": [
        "## Part 1 - Data Preprocessing"
      ]
    },
    {
      "cell_type": "markdown",
      "metadata": {
        "id": "-4zq8Mza_D9O"
      },
      "source": [
        "### Importing the dataset"
      ]
    },
    {
      "cell_type": "code",
      "metadata": {
        "id": "B9CV13Co_HHM"
      },
      "source": [
        "dataset = pd.read_excel('Combined-cycle-powerplant.xlsx')\n",
        "X = dataset.iloc[:, :-1].values\n",
        "y = dataset.iloc[:, -1].values"
      ],
      "execution_count": null,
      "outputs": []
    },
    {
      "cell_type": "markdown",
      "metadata": {
        "id": "VC6omXel_Up0"
      },
      "source": [
        "### Splitting the dataset into the Training set and Test set"
      ]
    },
    {
      "cell_type": "code",
      "metadata": {
        "id": "L5edeb2r_agx"
      },
      "source": [
        "from sklearn.model_selection import train_test_split\n",
        "X_train, X_test, y_train, y_test = train_test_split(X, y, test_size = 0.2, random_state = 0)"
      ],
      "execution_count": null,
      "outputs": []
    },
    {
      "cell_type": "markdown",
      "metadata": {
        "id": "_mSLlAT9_eyI"
      },
      "source": [
        "## Part 2 - Building the ANN"
      ]
    },
    {
      "cell_type": "markdown",
      "metadata": {
        "id": "CsBULd_f_wLY"
      },
      "source": [
        "### Initializing the ANN"
      ]
    },
    {
      "cell_type": "code",
      "metadata": {
        "id": "J6Hd97Ls__Nz"
      },
      "source": [
        "ann = tf.keras.models.Sequential()"
      ],
      "execution_count": null,
      "outputs": []
    },
    {
      "cell_type": "markdown",
      "metadata": {
        "id": "iitAFJS_ABUn"
      },
      "source": [
        "### Adding the input layer and the first hidden layer"
      ]
    },
    {
      "cell_type": "code",
      "metadata": {
        "id": "ksO_Vv40AHix"
      },
      "source": [
        "ann.add(tf.keras.layers.Dense(units=6, activation='relu'))"
      ],
      "execution_count": null,
      "outputs": []
    },
    {
      "cell_type": "markdown",
      "metadata": {
        "id": "-lb4kK_wAKbs"
      },
      "source": [
        "### Adding the second hidden layer"
      ]
    },
    {
      "cell_type": "code",
      "metadata": {
        "id": "c2357OqEAQOQ"
      },
      "source": [
        "ann.add(tf.keras.layers.Dense(units=6, activation='relu'))"
      ],
      "execution_count": null,
      "outputs": []
    },
    {
      "cell_type": "markdown",
      "metadata": {
        "id": "jwMOmKb3AdBY"
      },
      "source": [
        "### Adding the output layer"
      ]
    },
    {
      "cell_type": "code",
      "metadata": {
        "id": "YFATpzsUAkLL"
      },
      "source": [
        "ann.add(tf.keras.layers.Dense(units=1))"
      ],
      "execution_count": null,
      "outputs": []
    },
    {
      "cell_type": "markdown",
      "metadata": {
        "id": "fq7e4fF6A1yy"
      },
      "source": [
        "## Part 3 - Training the ANN"
      ]
    },
    {
      "cell_type": "markdown",
      "metadata": {
        "id": "qDeylAs2An25"
      },
      "source": [
        "### Compiling the ANN"
      ]
    },
    {
      "cell_type": "code",
      "metadata": {
        "id": "pesgbWlCAtB4"
      },
      "source": [
        "ann.compile(optimizer = 'adam', loss = 'mean_squared_error')"
      ],
      "execution_count": null,
      "outputs": []
    },
    {
      "cell_type": "markdown",
      "metadata": {
        "id": "YjVuiybYOo7r"
      },
      "source": [
        "### Training the ANN model on the Training set"
      ]
    },
    {
      "cell_type": "code",
      "metadata": {
        "id": "c_vV-tiiA5zn",
        "outputId": "aa285a0c-7aab-4a34-c8b2-1ac552a14389",
        "colab": {
          "base_uri": "https://localhost:8080/"
        }
      },
      "source": [
        "ann.fit(X_train, y_train, batch_size = 32, epochs = 100)"
      ],
      "execution_count": null,
      "outputs": [
        {
          "output_type": "stream",
          "text": [
            "Epoch 1/100\n",
            "240/240 [==============================] - 0s 817us/step - loss: 418512.8125\n",
            "Epoch 2/100\n",
            "240/240 [==============================] - 0s 920us/step - loss: 213764.6719\n",
            "Epoch 3/100\n",
            "240/240 [==============================] - 0s 780us/step - loss: 128422.4766\n",
            "Epoch 4/100\n",
            "240/240 [==============================] - 0s 780us/step - loss: 35392.5000\n",
            "Epoch 5/100\n",
            "240/240 [==============================] - 0s 817us/step - loss: 2321.4863\n",
            "Epoch 6/100\n",
            "240/240 [==============================] - 0s 879us/step - loss: 246.9230\n",
            "Epoch 7/100\n",
            "240/240 [==============================] - 0s 820us/step - loss: 220.5007\n",
            "Epoch 8/100\n",
            "240/240 [==============================] - 0s 804us/step - loss: 217.8068\n",
            "Epoch 9/100\n",
            "240/240 [==============================] - 0s 797us/step - loss: 214.9479\n",
            "Epoch 10/100\n",
            "240/240 [==============================] - 0s 823us/step - loss: 211.5575\n",
            "Epoch 11/100\n",
            "240/240 [==============================] - 0s 785us/step - loss: 207.8909\n",
            "Epoch 12/100\n",
            "240/240 [==============================] - 0s 792us/step - loss: 203.6787\n",
            "Epoch 13/100\n",
            "240/240 [==============================] - 0s 906us/step - loss: 199.0023\n",
            "Epoch 14/100\n",
            "240/240 [==============================] - 0s 833us/step - loss: 193.8911\n",
            "Epoch 15/100\n",
            "240/240 [==============================] - 0s 758us/step - loss: 188.3912\n",
            "Epoch 16/100\n",
            "240/240 [==============================] - 0s 814us/step - loss: 182.2521\n",
            "Epoch 17/100\n",
            "240/240 [==============================] - 0s 962us/step - loss: 175.7646\n",
            "Epoch 18/100\n",
            "240/240 [==============================] - 0s 876us/step - loss: 168.5337\n",
            "Epoch 19/100\n",
            "240/240 [==============================] - 0s 879us/step - loss: 160.9678\n",
            "Epoch 20/100\n",
            "240/240 [==============================] - 0s 801us/step - loss: 152.9129\n",
            "Epoch 21/100\n",
            "240/240 [==============================] - 0s 762us/step - loss: 144.4674\n",
            "Epoch 22/100\n",
            "240/240 [==============================] - 0s 939us/step - loss: 135.5254\n",
            "Epoch 23/100\n",
            "240/240 [==============================] - 0s 768us/step - loss: 126.3602\n",
            "Epoch 24/100\n",
            "240/240 [==============================] - 0s 764us/step - loss: 117.0381\n",
            "Epoch 25/100\n",
            "240/240 [==============================] - 0s 877us/step - loss: 107.6937\n",
            "Epoch 26/100\n",
            "240/240 [==============================] - 0s 801us/step - loss: 98.4835\n",
            "Epoch 27/100\n",
            "240/240 [==============================] - 0s 820us/step - loss: 89.3975\n",
            "Epoch 28/100\n",
            "240/240 [==============================] - 0s 761us/step - loss: 80.7643\n",
            "Epoch 29/100\n",
            "240/240 [==============================] - 0s 795us/step - loss: 72.7344\n",
            "Epoch 30/100\n",
            "240/240 [==============================] - 0s 792us/step - loss: 65.1418\n",
            "Epoch 31/100\n",
            "240/240 [==============================] - 0s 793us/step - loss: 58.5715\n",
            "Epoch 32/100\n",
            "240/240 [==============================] - 0s 829us/step - loss: 52.8830\n",
            "Epoch 33/100\n",
            "240/240 [==============================] - 0s 775us/step - loss: 48.0470\n",
            "Epoch 34/100\n",
            "240/240 [==============================] - 0s 799us/step - loss: 44.0753\n",
            "Epoch 35/100\n",
            "240/240 [==============================] - 0s 798us/step - loss: 40.8184\n",
            "Epoch 36/100\n",
            "240/240 [==============================] - 0s 774us/step - loss: 38.3731\n",
            "Epoch 37/100\n",
            "240/240 [==============================] - 0s 782us/step - loss: 36.3895\n",
            "Epoch 38/100\n",
            "240/240 [==============================] - 0s 823us/step - loss: 35.1000\n",
            "Epoch 39/100\n",
            "240/240 [==============================] - 0s 781us/step - loss: 34.0541\n",
            "Epoch 40/100\n",
            "240/240 [==============================] - 0s 810us/step - loss: 33.1356\n",
            "Epoch 41/100\n",
            "240/240 [==============================] - 0s 815us/step - loss: 32.5327\n",
            "Epoch 42/100\n",
            "240/240 [==============================] - 0s 791us/step - loss: 32.1758\n",
            "Epoch 43/100\n",
            "240/240 [==============================] - 0s 795us/step - loss: 31.8615\n",
            "Epoch 44/100\n",
            "240/240 [==============================] - 0s 778us/step - loss: 31.4207\n",
            "Epoch 45/100\n",
            "240/240 [==============================] - 0s 799us/step - loss: 31.0093\n",
            "Epoch 46/100\n",
            "240/240 [==============================] - 0s 800us/step - loss: 30.7915\n",
            "Epoch 47/100\n",
            "240/240 [==============================] - 0s 806us/step - loss: 30.3002\n",
            "Epoch 48/100\n",
            "240/240 [==============================] - 0s 836us/step - loss: 29.7495\n",
            "Epoch 49/100\n",
            "240/240 [==============================] - 0s 755us/step - loss: 29.4562\n",
            "Epoch 50/100\n",
            "240/240 [==============================] - 0s 825us/step - loss: 29.2663\n",
            "Epoch 51/100\n",
            "240/240 [==============================] - 0s 785us/step - loss: 28.7959\n",
            "Epoch 52/100\n",
            "240/240 [==============================] - 0s 804us/step - loss: 28.6287\n",
            "Epoch 53/100\n",
            "240/240 [==============================] - 0s 796us/step - loss: 28.6453\n",
            "Epoch 54/100\n",
            "240/240 [==============================] - 0s 810us/step - loss: 28.0305\n",
            "Epoch 55/100\n",
            "240/240 [==============================] - 0s 795us/step - loss: 27.7101\n",
            "Epoch 56/100\n",
            "240/240 [==============================] - 0s 896us/step - loss: 27.5304\n",
            "Epoch 57/100\n",
            "240/240 [==============================] - 0s 936us/step - loss: 27.3264\n",
            "Epoch 58/100\n",
            "240/240 [==============================] - 0s 807us/step - loss: 27.6039\n",
            "Epoch 59/100\n",
            "240/240 [==============================] - 0s 768us/step - loss: 27.1926\n",
            "Epoch 60/100\n",
            "240/240 [==============================] - 0s 956us/step - loss: 26.7283\n",
            "Epoch 61/100\n",
            "240/240 [==============================] - 0s 990us/step - loss: 26.9105\n",
            "Epoch 62/100\n",
            "240/240 [==============================] - 0s 825us/step - loss: 26.6119\n",
            "Epoch 63/100\n",
            "240/240 [==============================] - 0s 809us/step - loss: 26.7548\n",
            "Epoch 64/100\n",
            "240/240 [==============================] - 0s 880us/step - loss: 26.7388\n",
            "Epoch 65/100\n",
            "240/240 [==============================] - 0s 931us/step - loss: 26.4904\n",
            "Epoch 66/100\n",
            "240/240 [==============================] - 0s 792us/step - loss: 26.5607\n",
            "Epoch 67/100\n",
            "240/240 [==============================] - 0s 800us/step - loss: 26.5063\n",
            "Epoch 68/100\n",
            "240/240 [==============================] - 0s 883us/step - loss: 26.1637\n",
            "Epoch 69/100\n",
            "240/240 [==============================] - 0s 801us/step - loss: 26.3808\n",
            "Epoch 70/100\n",
            "240/240 [==============================] - 0s 905us/step - loss: 26.4874\n",
            "Epoch 71/100\n",
            "240/240 [==============================] - 0s 878us/step - loss: 26.3918\n",
            "Epoch 72/100\n",
            "240/240 [==============================] - 0s 800us/step - loss: 26.5904\n",
            "Epoch 73/100\n",
            "240/240 [==============================] - 0s 892us/step - loss: 26.1990\n",
            "Epoch 74/100\n",
            "240/240 [==============================] - 0s 792us/step - loss: 26.2467\n",
            "Epoch 75/100\n",
            "240/240 [==============================] - 0s 762us/step - loss: 26.3028\n",
            "Epoch 76/100\n",
            "240/240 [==============================] - 0s 770us/step - loss: 26.2024\n",
            "Epoch 77/100\n",
            "240/240 [==============================] - 0s 792us/step - loss: 26.3832\n",
            "Epoch 78/100\n",
            "240/240 [==============================] - 0s 798us/step - loss: 26.2610\n",
            "Epoch 79/100\n",
            "240/240 [==============================] - 0s 870us/step - loss: 26.5133\n",
            "Epoch 80/100\n",
            "240/240 [==============================] - 0s 900us/step - loss: 26.5523\n",
            "Epoch 81/100\n",
            "240/240 [==============================] - 0s 878us/step - loss: 26.4520\n",
            "Epoch 82/100\n",
            "240/240 [==============================] - 0s 843us/step - loss: 26.7324\n",
            "Epoch 83/100\n",
            "240/240 [==============================] - 0s 887us/step - loss: 26.2890\n",
            "Epoch 84/100\n",
            "240/240 [==============================] - 0s 819us/step - loss: 26.1956\n",
            "Epoch 85/100\n",
            "240/240 [==============================] - 0s 798us/step - loss: 26.4493\n",
            "Epoch 86/100\n",
            "240/240 [==============================] - 0s 794us/step - loss: 26.1191\n",
            "Epoch 87/100\n",
            "240/240 [==============================] - 0s 827us/step - loss: 26.0630\n",
            "Epoch 88/100\n",
            "240/240 [==============================] - 0s 818us/step - loss: 26.4615\n",
            "Epoch 89/100\n",
            "240/240 [==============================] - 0s 831us/step - loss: 26.4118\n",
            "Epoch 90/100\n",
            "240/240 [==============================] - 0s 798us/step - loss: 26.1008\n",
            "Epoch 91/100\n",
            "240/240 [==============================] - 0s 803us/step - loss: 26.1690\n",
            "Epoch 92/100\n",
            "240/240 [==============================] - 0s 799us/step - loss: 26.1362\n",
            "Epoch 93/100\n",
            "240/240 [==============================] - 0s 888us/step - loss: 26.0797\n",
            "Epoch 94/100\n",
            "240/240 [==============================] - 0s 783us/step - loss: 26.4986\n",
            "Epoch 95/100\n",
            "240/240 [==============================] - 0s 776us/step - loss: 26.6454\n",
            "Epoch 96/100\n",
            "240/240 [==============================] - 0s 779us/step - loss: 26.3273\n",
            "Epoch 97/100\n",
            "240/240 [==============================] - 0s 814us/step - loss: 26.2812\n",
            "Epoch 98/100\n",
            "240/240 [==============================] - 0s 819us/step - loss: 26.0592\n",
            "Epoch 99/100\n",
            "240/240 [==============================] - 0s 785us/step - loss: 26.1877\n",
            "Epoch 100/100\n",
            "240/240 [==============================] - 0s 764us/step - loss: 26.0942\n"
          ],
          "name": "stdout"
        },
        {
          "output_type": "execute_result",
          "data": {
            "text/plain": [
              "<tensorflow.python.keras.callbacks.History at 0x7f2051c37668>"
            ]
          },
          "metadata": {
            "tags": []
          },
          "execution_count": 9
        }
      ]
    },
    {
      "cell_type": "markdown",
      "metadata": {
        "id": "0H0zKKNEBLD5"
      },
      "source": [
        "### Predicting the results of the Test set"
      ]
    },
    {
      "cell_type": "code",
      "metadata": {
        "id": "IA0yApEmBG1X",
        "outputId": "972912d8-6d35-4ed1-f99a-a0b50633aff3",
        "colab": {
          "base_uri": "https://localhost:8080/"
        }
      },
      "source": [
        "y_pred = ann.predict(X_test)\n",
        "np.set_printoptions(precision=2)\n",
        "print(np.concatenate((y_pred.reshape(len(y_pred),1), y_test.reshape(len(y_test),1)),1))"
      ],
      "execution_count": null,
      "outputs": [
        {
          "output_type": "stream",
          "text": [
            "[[430.76 431.23]\n",
            " [462.04 460.01]\n",
            " [465.57 461.14]\n",
            " ...\n",
            " [472.77 473.26]\n",
            " [438.94 438.  ]\n",
            " [458.29 463.28]]\n"
          ],
          "name": "stdout"
        }
      ]
    }
  ]
}